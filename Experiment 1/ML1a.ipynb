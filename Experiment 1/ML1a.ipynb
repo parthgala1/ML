{
 "cells": [
  {
   "cell_type": "markdown",
   "metadata": {},
   "source": [
    "## Find-S Algorithm"
   ]
  },
  {
   "cell_type": "markdown",
   "metadata": {},
   "source": [
    "Aim: Implement and demonstrate the FIND-S algorithm for finding the most specific hypothesis based on a given set of training data samples. Read the training data from a .CSV file."
   ]
  },
  {
   "cell_type": "markdown",
   "metadata": {},
   "source": [
    "### 1. Importing Dependencies "
   ]
  },
  {
   "cell_type": "code",
   "execution_count": 19,
   "metadata": {},
   "outputs": [],
   "source": [
    "import pandas as pd"
   ]
  },
  {
   "cell_type": "markdown",
   "metadata": {},
   "source": [
    "### 2. Data Processing"
   ]
  },
  {
   "cell_type": "code",
   "execution_count": 20,
   "metadata": {},
   "outputs": [],
   "source": [
    "data = pd.read_csv('ENJOYSPORT.csv')"
   ]
  },
  {
   "cell_type": "code",
   "execution_count": 21,
   "metadata": {},
   "outputs": [],
   "source": [
    "column_length = data.shape[1]"
   ]
  },
  {
   "cell_type": "code",
   "execution_count": 22,
   "metadata": {},
   "outputs": [],
   "source": [
    "h = ['0']*(column_length - 1)\n",
    "hp = []\n",
    "hn = []"
   ]
  },
  {
   "cell_type": "markdown",
   "metadata": {},
   "source": [
    "### 3. Hypothesis Testitng"
   ]
  },
  {
   "cell_type": "code",
   "execution_count": 23,
   "metadata": {},
   "outputs": [],
   "source": [
    "for training in data.values:\n",
    "    if training[-1]:\n",
    "        hp.append(training)\n",
    "    else:\n",
    "        hn.append(training)"
   ]
  },
  {
   "cell_type": "code",
   "execution_count": 24,
   "metadata": {},
   "outputs": [],
   "source": [
    "for i in range(len(hp)):\n",
    "    for j in range(column_length - 1):\n",
    "        if h[j] == '0':\n",
    "            h[j] = hp[i][j]\n",
    "        if h[j] != hp[i][j]:\n",
    "            h[j] = '?'"
   ]
  },
  {
   "cell_type": "code",
   "execution_count": 25,
   "metadata": {},
   "outputs": [
    {
     "name": "stdout",
     "output_type": "stream",
     "text": [
      "\n",
      "The positive hypothesis are [array(['Sunny', 'Warm', 'Normal', 'Strong', 'Warm', 'Same', 1],\n",
      "      dtype=object), array(['Sunny', 'Warm', 'High', 'Strong', 'Warm', 'Same', 1], dtype=object), array(['Sunny', 'Warm', 'High', 'Strong', 'Cool', 'Change', 1],\n",
      "      dtype=object)]\n",
      "\n",
      "The negative hypothesis are [array(['Rainy', 'Cold', 'High', 'Strong', 'Warm', 'Change', 0],\n",
      "      dtype=object)]\n",
      "\n",
      "The maximally specific hypothesis h is ['Sunny', 'Warm', '?', 'Strong', '?', '?']\n"
     ]
    }
   ],
   "source": [
    "print(\"\\nThe positive hypothesis are\", hp)\n",
    "print(\"\\nThe negative hypothesis are\", hn)\n",
    "print(\"\\nThe maximally specific hypothesis h is\", h)"
   ]
  },
  {
   "cell_type": "code",
   "execution_count": null,
   "metadata": {},
   "outputs": [],
   "source": []
  }
 ],
 "metadata": {
  "kernelspec": {
   "display_name": "base",
   "language": "python",
   "name": "python3"
  },
  "language_info": {
   "codemirror_mode": {
    "name": "ipython",
    "version": 3
   },
   "file_extension": ".py",
   "mimetype": "text/x-python",
   "name": "python",
   "nbconvert_exporter": "python",
   "pygments_lexer": "ipython3",
   "version": "3.12.0"
  }
 },
 "nbformat": 4,
 "nbformat_minor": 2
}
